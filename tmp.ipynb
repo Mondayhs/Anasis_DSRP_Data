{
 "cells": [
  {
   "cell_type": "code",
   "execution_count": 2,
   "metadata": {},
   "outputs": [],
   "source": [
    "import numpy as np\n",
    "import pandas as pd\n",
    "import csv\n",
    "# import pygsheets\n",
    "# import requests"
   ]
  },
  {
   "cell_type": "code",
   "execution_count": 3,
   "metadata": {},
   "outputs": [],
   "source": [
    "# sheet_num = 0\n",
    "# gc = pygsheets.authorize(service_file='googlesheetKey.json')\n",
    "# sht = gc.open_by_url(\n",
    "# 'https://docs.google.com/spreadsheets/d/18frR5_ie05ud5ZHta_gsUuBpgOWds19yFBWtrFYNwsc/edit#gid=0')\n",
    "# sht[sheet_num].title = \"cycle1\"\n",
    "# sht[sheet_num].update_cell(da)\n",
    "\n",
    "# #讀取成 df\n",
    "# df = pd.DataFrame(sht[sheet_num].get_all_records())\n",
    "# sht[sheet_num].set_dataframe(df, 'A1') #從欄位 A1 開始"
   ]
  },
  {
   "cell_type": "markdown",
   "metadata": {},
   "source": [
    "要先開csv檔存檔，這樣位置才會對(會沒有'=')\n",
    "下次改一下就好"
   ]
  },
  {
   "cell_type": "code",
   "execution_count": 12,
   "metadata": {},
   "outputs": [],
   "source": [
    "def Export_Data(OpenfileName, SavefileName):\n",
    "    # OpenfileName = OpenfileName.CSV\n",
    "    # 開啟 CSV 檔案\n",
    "    with open(OpenfileName, newline='') as csvfile:\n",
    "    # 讀取 CSV 檔案內容\n",
    "        rows = csv.reader(csvfile)\n",
    "        data = list(rows)\n",
    "    \n",
    "    length = int((len(data))/6)\n",
    "    All_Data = (np.zeros((length,6))).tolist()      \n",
    "    for i in range(length):\n",
    "        All_Data[i][1] = i\n",
    "        All_Data[i][0] = data[i*6+5][0]                      # Time\n",
    "        All_Data[i][2] = int(data[i*6+5][2][9:11],16)        # SOM Tmp.\n",
    "        All_Data[i][3] = int(data[i*6+5][2][12:14],16)       # RADFET Tmp.\n",
    "        All_Data[i][4] = int(data[i*6+3][2][6:8]+data[i*6+3][2][9:11]+data[i*6+3][2][12:14],16)*((2*2.5)/(2**23-1))\n",
    "        All_Data[i][5] = int(data[i*6+3][2][15:17]+data[i*6+3][2][18:20]+data[i*6+3][2][21:23],16)*((2*2.5)/(2**23-1))  #R2\n",
    "    \n",
    "    # opening the file\n",
    "    with open(SavefileName, \"w\", newline=\"\") as f:\n",
    "        # creating the writer\n",
    "        writer = csv.writer(f)\n",
    "        # using writerows, all rows at once\n",
    "        writer.writerows(All_Data)"
   ]
  },
  {
   "cell_type": "code",
   "execution_count": 9,
   "metadata": {},
   "outputs": [
    {
     "name": "stderr",
     "output_type": "stream",
     "text": [
      "<>:1: SyntaxWarning: invalid escape sequence '\\C'\n",
      "<>:2: SyntaxWarning: invalid escape sequence '\\C'\n",
      "<>:3: SyntaxWarning: invalid escape sequence '\\C'\n",
      "<>:1: SyntaxWarning: invalid escape sequence '\\C'\n",
      "<>:2: SyntaxWarning: invalid escape sequence '\\C'\n",
      "<>:3: SyntaxWarning: invalid escape sequence '\\C'\n",
      "C:\\Users\\user\\AppData\\Local\\Temp\\ipykernel_22520\\1567456968.py:1: SyntaxWarning: invalid escape sequence '\\C'\n",
      "  Export_Data('ORIGINAL\\Cycle1.CSV','TVTC_Last_Data/Cycle1.CSV')\n",
      "C:\\Users\\user\\AppData\\Local\\Temp\\ipykernel_22520\\1567456968.py:2: SyntaxWarning: invalid escape sequence '\\C'\n",
      "  Export_Data('ORIGINAL\\Cycle2.CSV','TVTC_Last_Data/Cycle2.CSV')\n",
      "C:\\Users\\user\\AppData\\Local\\Temp\\ipykernel_22520\\1567456968.py:3: SyntaxWarning: invalid escape sequence '\\C'\n",
      "  Export_Data('ORIGINAL\\Cycle3.CSV','TVTC_Last_Data/Cycle3.CSV')\n"
     ]
    }
   ],
   "source": [
    "Export_Data('ORIGINAL\\Cycle1.CSV','TVTC_Last_Data/Cycle1.CSV')\n",
    "Export_Data('ORIGINAL\\Cycle2.CSV','TVTC_Last_Data/Cycle2.CSV')\n",
    "Export_Data('ORIGINAL\\Cycle3.CSV','TVTC_Last_Data/Cycle3.CSV')\n",
    "# Export_Data('Cycle4.CSV','Last_Data/Cycle4.CSV')"
   ]
  },
  {
   "cell_type": "markdown",
   "metadata": {},
   "source": [
    "### Check all HK data "
   ]
  },
  {
   "cell_type": "code",
   "execution_count": 24,
   "metadata": {},
   "outputs": [
    {
     "data": {
      "text/plain": [
       "'11'"
      ]
     },
     "execution_count": 24,
     "metadata": {},
     "output_type": "execute_result"
    }
   ],
   "source": [
    "nam = 'ORIGINAL\\\\Cycle4.CSV'\n",
    "# 開啟 CSV 檔案\n",
    "with open(nam, newline='') as csvfile:\n",
    "  # 讀取 CSV 檔案內容\n",
    "    rows = csv.reader(csvfile)\n",
    "    data = list(rows)  \n",
    "data[6][2][0:2]  \n",
    "# for i in range(len(data)):\n",
    "#     if data[i*6][2][0:2] != '11':\n",
    "#         print(i*6)\n",
    "#         print(data[i*6][0])\n",
    "#         break\n",
    "#     i+=1    "
   ]
  },
  {
   "cell_type": "code",
   "execution_count": null,
   "metadata": {},
   "outputs": [
    {
     "data": {
      "text/plain": [
       "2351981"
      ]
     },
     "execution_count": 95,
     "metadata": {},
     "output_type": "execute_result"
    }
   ],
   "source": [
    "int(data[3][2][6:8]+data[3][2][9:11]+data[3][2][12:14],16)"
   ]
  },
  {
   "cell_type": "code",
   "execution_count": null,
   "metadata": {},
   "outputs": [
    {
     "data": {
      "text/plain": [
       "1.4018900873530016"
      ]
     },
     "execution_count": 113,
     "metadata": {},
     "output_type": "execute_result"
    }
   ],
   "source": [
    "2351981*(2*2.5)/(2**23-1)"
   ]
  },
  {
   "cell_type": "code",
   "execution_count": null,
   "metadata": {},
   "outputs": [
    {
     "data": {
      "text/plain": [
       "'22A9A2'"
      ]
     },
     "execution_count": 98,
     "metadata": {},
     "output_type": "execute_result"
    }
   ],
   "source": [
    "data[3][2][15:17]+data[3][2][18:20]+data[3][2][21:23]"
   ]
  },
  {
   "cell_type": "code",
   "execution_count": null,
   "metadata": {},
   "outputs": [
    {
     "data": {
      "text/plain": [
       "'23E36D'"
      ]
     },
     "execution_count": 4,
     "metadata": {},
     "output_type": "execute_result"
    }
   ],
   "source": [
    "data[3][2][6:8]+data[3][2][9:11]+data[3][2][12:14]"
   ]
  },
  {
   "cell_type": "code",
   "execution_count": null,
   "metadata": {},
   "outputs": [],
   "source": [
    "\n",
    "length = int((len(data))/6)\n",
    "All_Data = (np.zeros((length,5))).tolist()\n",
    "for i in range(length):\n",
    "    All_Data[i][0] = data[i*6+5][0]                      # Time\n",
    "    All_Data[i][1] = int(data[i*6+5][2][9:11],16)       # SOM Tmp.\n",
    "    All_Data[i][2] = int(data[i*6+5][2][12:14],16)       # RADFET Tmp.\n",
    "    All_Data[i][3] = int(data[i*6+3][2][6:8]+data[i*6+3][2][9:11]+data[i*6+3][2][12:14],16)*((2*2.5)/(2**23-1))\n",
    "    All_Data[i][4] = int(data[i*6+3][2][15:17]+data[i*6+3][2][18:20]+data[i*6+3][2][21:23],16)*((2*2.5)/(2**23-1))  #R2\n",
    "\n",
    "# All_Data[0][3] = 0\n",
    "# All_Data[0][4] = 0     \n",
    "# for i in range(length-1):\n",
    "#     R1 = int(data[i*6+3][2][6:8]+data[i*6+3][2][9:11]+data[i*6+3][2][12:14],16)*((2*2.5)/(2**23-1))  #R1\n",
    "#     R2 = int(data[i*6+3][2][15:17]+data[i*6+3][2][18:20]+data[i*6+3][2][21:23],16)*((2*2.5)/(2**23-1))  #R2\n",
    "#     All_Data[i+1][3] = R1-All_Data[i][3]\n",
    "#     All_Data[i+1][4] = R2-All_Data[i][4]"
   ]
  },
  {
   "cell_type": "code",
   "execution_count": null,
   "metadata": {},
   "outputs": [],
   "source": [
    "# opening the file\n",
    "with open(\"Last_Data/1110.csv\", \"w\", newline=\"\") as f:\n",
    "    # creating the writer\n",
    "    writer = csv.writer(f)\n",
    "    # using writerows, all rows at once\n",
    "    Our_list = \n",
    "    writer.writerows(Our_list)"
   ]
  }
 ],
 "metadata": {
  "kernelspec": {
   "display_name": "Python 3",
   "language": "python",
   "name": "python3"
  },
  "language_info": {
   "codemirror_mode": {
    "name": "ipython",
    "version": 3
   },
   "file_extension": ".py",
   "mimetype": "text/x-python",
   "name": "python",
   "nbconvert_exporter": "python",
   "pygments_lexer": "ipython3",
   "version": "3.12.0"
  }
 },
 "nbformat": 4,
 "nbformat_minor": 2
}
