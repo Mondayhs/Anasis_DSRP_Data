{
 "cells": [
  {
   "cell_type": "code",
   "execution_count": 51,
   "metadata": {},
   "outputs": [
    {
     "name": "stdout",
     "output_type": "stream",
     "text": [
      "%pylab is deprecated, use %matplotlib inline and import the required libraries.\n",
      "Populating the interactive namespace from numpy and matplotlib\n"
     ]
    }
   ],
   "source": [
    "import numpy as np\n",
    "%pylab inline\n",
    "from matplotlib import pyplot as plt\n",
    "import csv"
   ]
  },
  {
   "cell_type": "code",
   "execution_count": 50,
   "metadata": {},
   "outputs": [
    {
     "name": "stderr",
     "output_type": "stream",
     "text": [
      "<>:1: SyntaxWarning: invalid escape sequence '\\p'\n",
      "<>:1: SyntaxWarning: invalid escape sequence '\\p'\n",
      "C:\\Users\\user\\AppData\\Local\\Temp\\ipykernel_6252\\1724575765.py:1: SyntaxWarning: invalid escape sequence '\\p'\n",
      "  with open('data\\process\\V4b(2)_0115_2s(P).CSV', newline='') as csvfile:\n"
     ]
    }
   ],
   "source": [
    "with open('data\\process\\V4b(2)_0115_2s(P).CSV', newline='') as csvfile:\n",
    "# 讀取 CSV 檔案內容\n",
    "        rows = csv.reader(csvfile)\n",
    "        data = list(rows)\n",
    "    "
   ]
  },
  {
   "cell_type": "code",
   "execution_count": 62,
   "metadata": {},
   "outputs": [],
   "source": [
    "def open(OpenfileName):\n",
    "    with open(OpenfileName, newline='') as csvfile:\n",
    "    # 讀取 CSV 檔案內容\n",
    "        rows = csv.reader(csvfile)\n",
    "        data1 = list(rows)\n",
    "    return data1\n",
    "def draw_CMDCnt_RebCnt_R1R2(data, resolution):\n",
    "    length = int((len(data)))\n",
    "    tmp = np.zeros((length))\n",
    "    CMD_acc_c = np.zeros((length))\n",
    "    hk_num_c = np.zeros((length))\n",
    "    reb_c = np.zeros((length))\n",
    "    _sci_write_num_ = np.zeros((length))\n",
    "    R1 = np.zeros((length))\n",
    "    R2 = np.zeros((length))\n",
    "    for i in range(1,len(data)):\n",
    "        tmp[i] =   (data[i][0])\n",
    "        CMD_acc_c[i] =   data[i][2]\n",
    "        reb_c[i] =   data[i][6]\n",
    "        _sci_write_num_[i] =   data[i][9]\n",
    "        R1[i] =    data[i][11]\n",
    "        R2[i] =    data[i][12]\n",
    "\n",
    "    plt.subplot(1,3)\n",
    "    plt.scatter(tmp*resolution,CMD_acc_c, s=0.25, color='b', label=f'R1')\n",
    "    plt.axis([-1, length*resolution, -50,300])\n",
    "    plt.xlabel(\" Time (hrs)\")\n",
    "    plt.title(f'Command Counter (0125_2s)')\n",
    "    plt.subplot(2,3)\n"
   ]
  },
  {
   "cell_type": "code",
   "execution_count": 29,
   "metadata": {},
   "outputs": [],
   "source": [
    "length = int((len(data)))\n",
    "tmp = np.zeros((length))\n",
    "CMD_acc_c = np.zeros((length))\n",
    "hk_num_c = np.zeros((length))\n",
    "reb_c = np.zeros((length))\n",
    "_sci_write_num_ = np.zeros((length))\n",
    "R1 = np.zeros((length))\n",
    "R2 = np.zeros((length))\n",
    "for i in range(1,len(data)):\n",
    "    tmp[i] =   (data[i][0])\n",
    "    CMD_acc_c[i] =   data[i][2]\n",
    "    reb_c[i] =   data[i][6]\n",
    "    _sci_write_num_[i] =   data[i][9]\n",
    "    R1[i] =    data[i][11]\n",
    "    R2[i] =    data[i][12]\n"
   ]
  },
  {
   "cell_type": "code",
   "execution_count": 65,
   "metadata": {},
   "outputs": [],
   "source": [
    "# plt.scatter(tmp*2/3600,CMD_acc_c, s=0.25, color='b', label=f'R1')\n",
    "# plt.axis([-1, length*2/3600, -50,300])\n",
    "# plt.xlabel(\" Time (hrs)\")\n",
    "# plt.title(f'Command Counter (0115_2s)') "
   ]
  },
  {
   "cell_type": "code",
   "execution_count": 64,
   "metadata": {},
   "outputs": [],
   "source": [
    "# plt.scatter(tmp*2/3600,reb_c, s=0.25, color='b', label=f'R1')\n",
    "# plt.axis([-1, length*2/3600, -1,70])\n",
    "# plt.xlabel(\" Time (hrs)\")\n",
    "# plt.title(f'Reboot Counter (0115_2s)') "
   ]
  },
  {
   "cell_type": "code",
   "execution_count": 63,
   "metadata": {},
   "outputs": [],
   "source": [
    "# plt.scatter(tmp*2/3600,R1, s=0.25, color='g', label=f'R1')\n",
    "# plt.scatter(tmp*2/3600,R2, s=0.25, color='r', label=f'R2')\n",
    "# plt.legend() \n",
    "# plt.xlabel(\" Time (hrs)\")\n",
    "# plt.ylabel(\"Voltage (V)\")\n",
    "# plt.title(f'RADFET Voltage (0115_2s)') "
   ]
  },
  {
   "cell_type": "code",
   "execution_count": 56,
   "metadata": {},
   "outputs": [
    {
     "name": "stderr",
     "output_type": "stream",
     "text": [
      "<>:1: SyntaxWarning: invalid escape sequence '\\p'\n",
      "<>:1: SyntaxWarning: invalid escape sequence '\\p'\n",
      "C:\\Users\\user\\AppData\\Local\\Temp\\ipykernel_6252\\3317325783.py:1: SyntaxWarning: invalid escape sequence '\\p'\n",
      "  with open('data\\process\\V4b(2)_0124_10s(P).CSV', newline='') as csvfile:\n"
     ]
    }
   ],
   "source": [
    "with open('data\\process\\V4b(2)_0124_10s(P).CSV', newline='') as csvfile:\n",
    "# 讀取 CSV 檔案內容\n",
    "        rows = csv.reader(csvfile)\n",
    "        data = list(rows)\n",
    "    "
   ]
  },
  {
   "cell_type": "code",
   "execution_count": 57,
   "metadata": {},
   "outputs": [],
   "source": [
    "length = int((len(data)))\n",
    "tmp = np.zeros((length))\n",
    "CMD_acc_c = np.zeros((length))\n",
    "hk_num_c = np.zeros((length))\n",
    "reb_c = np.zeros((length))\n",
    "_sci_write_num_ = np.zeros((length))\n",
    "R1 = np.zeros((length))\n",
    "R2 = np.zeros((length))\n",
    "for i in range(1,len(data)):\n",
    "    tmp[i] =   (data[i][0])\n",
    "    CMD_acc_c[i] =   data[i][2]\n",
    "    reb_c[i] =   data[i][6]\n",
    "    _sci_write_num_[i] =   data[i][9]\n",
    "    R1[i] =    data[i][11]\n",
    "    R2[i] =    data[i][12]\n"
   ]
  },
  {
   "cell_type": "code",
   "execution_count": 66,
   "metadata": {},
   "outputs": [],
   "source": [
    "# resolution = 10/3600\n",
    "# plt.scatter(tmp*resolution,CMD_acc_c, s=0.25, color='b', label=f'R1')\n",
    "# plt.axis([-1, length*resolution, -50,300])\n",
    "# plt.xlabel(\" Time (hrs)\")\n",
    "# plt.title(f'Command Counter (0125_2s)') "
   ]
  },
  {
   "cell_type": "code",
   "execution_count": 67,
   "metadata": {},
   "outputs": [],
   "source": [
    "# plt.scatter(tmp*resolution,reb_c, s=0.25, color='b', label=f'R1')\n",
    "# plt.axis([-1, length*resolution, -1,70])\n",
    "# plt.xlabel(\" Time (hrs)\")\n",
    "# plt.title(f'Reboot Counter (0124_10s)') "
   ]
  },
  {
   "cell_type": "code",
   "execution_count": 68,
   "metadata": {},
   "outputs": [],
   "source": [
    "# plt.scatter(tmp*resolution,R1, s=0.25, color='g', label=f'R1')\n",
    "# plt.scatter(tmp*resolution,R2, s=0.25, color='r', label=f'R2')\n",
    "# plt.legend() \n",
    "# plt.xlabel(\" Time (hrs)\")\n",
    "# plt.ylabel(\"Voltage (V)\")\n",
    "# plt.title(f'RADFET Voltage (0115_2s)') "
   ]
  }
 ],
 "metadata": {
  "kernelspec": {
   "display_name": "Python 3",
   "language": "python",
   "name": "python3"
  },
  "language_info": {
   "codemirror_mode": {
    "name": "ipython",
    "version": 3
   },
   "file_extension": ".py",
   "mimetype": "text/x-python",
   "name": "python",
   "nbconvert_exporter": "python",
   "pygments_lexer": "ipython3",
   "version": "3.12.0"
  }
 },
 "nbformat": 4,
 "nbformat_minor": 2
}
