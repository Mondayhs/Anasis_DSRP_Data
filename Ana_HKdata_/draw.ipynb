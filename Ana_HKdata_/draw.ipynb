{
 "cells": [
  {
   "cell_type": "code",
   "execution_count": 84,
   "metadata": {},
   "outputs": [
    {
     "name": "stdout",
     "output_type": "stream",
     "text": [
      "%pylab is deprecated, use %matplotlib inline and import the required libraries.\n",
      "Populating the interactive namespace from numpy and matplotlib\n"
     ]
    }
   ],
   "source": [
    "import numpy as np\n",
    "%pylab inline\n",
    "from matplotlib import pyplot as plt\n",
    "import csv"
   ]
  },
  {
   "cell_type": "code",
   "execution_count": 85,
   "metadata": {},
   "outputs": [],
   "source": [
    "def findError(OpenfileName):\n",
    "    with open(OpenfileName, newline='') as csvfile:\n",
    "    # 讀取 CSV 檔案內容\n",
    "        rows = csv.reader(csvfile)\n",
    "        data = list(rows)\n",
    "    length = int((len(data)))\n",
    "    RealTime = np.zeros((length))\n",
    "    t = 0\n",
    "    for i in range(1,len(data)):\n",
    "        if ((data[i][11] | data[i][12]) < 0.1):\n",
    "            t+=1\n",
    "        else: \n",
    "            t = 0\n",
    "        if (t == 10):\n",
    "            print(data[i-10][1])        "
   ]
  },
  {
   "cell_type": "code",
   "execution_count": 86,
   "metadata": {},
   "outputs": [
    {
     "name": "stderr",
     "output_type": "stream",
     "text": [
      "<>:1: SyntaxWarning: invalid escape sequence '\\p'\n",
      "<>:1: SyntaxWarning: invalid escape sequence '\\p'\n",
      "C:\\Users\\user\\AppData\\Local\\Temp\\ipykernel_6252\\1689207848.py:1: SyntaxWarning: invalid escape sequence '\\p'\n",
      "  findError('data\\process\\V4b(2)_0124_HK10TM1(P).CSV')\n"
     ]
    },
    {
     "ename": "TypeError",
     "evalue": "open() got an unexpected keyword argument 'newline'",
     "output_type": "error",
     "traceback": [
      "\u001b[1;31m---------------------------------------------------------------------------\u001b[0m",
      "\u001b[1;31mTypeError\u001b[0m                                 Traceback (most recent call last)",
      "Cell \u001b[1;32mIn[86], line 1\u001b[0m\n\u001b[1;32m----> 1\u001b[0m \u001b[43mfindError\u001b[49m\u001b[43m(\u001b[49m\u001b[38;5;124;43m'\u001b[39;49m\u001b[38;5;124;43mdata\u001b[39;49m\u001b[38;5;124;43m\\\u001b[39;49m\u001b[38;5;124;43mprocess\u001b[39;49m\u001b[38;5;124;43m\\\u001b[39;49m\u001b[38;5;124;43mV4b(2)_0124_HK10TM1(P).CSV\u001b[39;49m\u001b[38;5;124;43m'\u001b[39;49m\u001b[43m)\u001b[49m\n",
      "Cell \u001b[1;32mIn[85], line 2\u001b[0m, in \u001b[0;36mfindError\u001b[1;34m(OpenfileName)\u001b[0m\n\u001b[0;32m      1\u001b[0m \u001b[38;5;28;01mdef\u001b[39;00m \u001b[38;5;21mfindError\u001b[39m(OpenfileName):\n\u001b[1;32m----> 2\u001b[0m     \u001b[38;5;28;01mwith\u001b[39;00m \u001b[38;5;28;43mopen\u001b[39;49m\u001b[43m(\u001b[49m\u001b[43mOpenfileName\u001b[49m\u001b[43m,\u001b[49m\u001b[43m \u001b[49m\u001b[43mnewline\u001b[49m\u001b[38;5;241;43m=\u001b[39;49m\u001b[38;5;124;43m'\u001b[39;49m\u001b[38;5;124;43m'\u001b[39;49m\u001b[43m)\u001b[49m \u001b[38;5;28;01mas\u001b[39;00m csvfile:\n\u001b[0;32m      3\u001b[0m     \u001b[38;5;66;03m# 讀取 CSV 檔案內容\u001b[39;00m\n\u001b[0;32m      4\u001b[0m         rows \u001b[38;5;241m=\u001b[39m csv\u001b[38;5;241m.\u001b[39mreader(csvfile)\n\u001b[0;32m      5\u001b[0m         data \u001b[38;5;241m=\u001b[39m \u001b[38;5;28mlist\u001b[39m(rows)\n",
      "\u001b[1;31mTypeError\u001b[0m: open() got an unexpected keyword argument 'newline'"
     ]
    }
   ],
   "source": [
    "findError('data\\process\\V4b(2)_0124_HK10TM1(P).CSV')"
   ]
  },
  {
   "cell_type": "code",
   "execution_count": 71,
   "metadata": {},
   "outputs": [],
   "source": [
    "def openF(OpenfileName):\n",
    "    with open(OpenfileName, newline='') as csvfile:\n",
    "    # 讀取 CSV 檔案內容\n",
    "        rows = csv.reader(csvfile)\n",
    "        data1 = list(rows)\n",
    "    return data1\n",
    "def draw_CMDCnt_RebCnt_R1R2(data, resolution, Date):\n",
    "    length = int((len(data)))\n",
    "    tmp = np.zeros((length))\n",
    "    CMD_acc_c = np.zeros((length))\n",
    "    hk_num_c = np.zeros((length))\n",
    "    reb_c = np.zeros((length))\n",
    "    _sci_write_num_ = np.zeros((length))\n",
    "    R1 = np.zeros((length))\n",
    "    R2 = np.zeros((length))\n",
    "    for i in range(1,len(data)):\n",
    "        tmp[i] =   (data[i][0])\n",
    "        CMD_acc_c[i] =   data[i][2]\n",
    "        reb_c[i] =   data[i][6]\n",
    "        _sci_write_num_[i] =   data[i][9]\n",
    "        R1[i] =    data[i][11]\n",
    "        R2[i] =    data[i][12]\n",
    "\n",
    "    plt.subplot(1,3)\n",
    "    plt.scatter(tmp*resolution,CMD_acc_c, s=0.25, color='b', label=f'R1')\n",
    "    plt.axis([-1, length*resolution, -50,300])\n",
    "    plt.xlabel(\" Time (hrs)\")\n",
    "    plt.title(f'Command Counter ({Date})')\n",
    "    plt.subplot(2,3)\n",
    "    plt.scatter(tmp*resolution,reb_c, s=0.25, color='b', label=f'R1')\n",
    "    plt.axis([-1, length*resolution, -1,70])\n",
    "    plt.xlabel(\" Time (hrs)\")\n",
    "    plt.title(f'Reboot Counter ({Date})') \n",
    "    plt.subplot(3,3)\n",
    "    plt.scatter(tmp*resolution,R1, s=0.25, color='g', label=f'R1')\n",
    "    plt.scatter(tmp*resolution,R2, s=0.25, color='r', label=f'R2')\n",
    "    plt.legend() \n",
    "    plt.xlabel(\" Time (hrs)\")\n",
    "    plt.ylabel(\"Voltage (V)\")\n",
    "    plt.title(f'RADFET Voltage ({Date})')\n"
   ]
  },
  {
   "cell_type": "code",
   "execution_count": 77,
   "metadata": {},
   "outputs": [
    {
     "name": "stderr",
     "output_type": "stream",
     "text": [
      "<>:1: SyntaxWarning: invalid escape sequence '\\p'\n",
      "<>:1: SyntaxWarning: invalid escape sequence '\\p'\n",
      "C:\\Users\\user\\AppData\\Local\\Temp\\ipykernel_6252\\768747823.py:1: SyntaxWarning: invalid escape sequence '\\p'\n",
      "  ADate = open('data\\process\\V4b(2)_0115_2s(P).CSV')\n"
     ]
    },
    {
     "ename": "TypeError",
     "evalue": "open() got an unexpected keyword argument 'newline'",
     "output_type": "error",
     "traceback": [
      "\u001b[1;31m---------------------------------------------------------------------------\u001b[0m",
      "\u001b[1;31mTypeError\u001b[0m                                 Traceback (most recent call last)",
      "Cell \u001b[1;32mIn[77], line 1\u001b[0m\n\u001b[1;32m----> 1\u001b[0m ADate \u001b[38;5;241m=\u001b[39m \u001b[38;5;28;43mopen\u001b[39;49m\u001b[43m(\u001b[49m\u001b[38;5;124;43m'\u001b[39;49m\u001b[38;5;124;43mdata\u001b[39;49m\u001b[38;5;124;43m\\\u001b[39;49m\u001b[38;5;124;43mprocess\u001b[39;49m\u001b[38;5;124;43m\\\u001b[39;49m\u001b[38;5;124;43mV4b(2)_0115_2s(P).CSV\u001b[39;49m\u001b[38;5;124;43m'\u001b[39;49m\u001b[43m)\u001b[49m\n\u001b[0;32m      2\u001b[0m Aresolution \u001b[38;5;241m=\u001b[39m \u001b[38;5;241m2\u001b[39m\u001b[38;5;241m/\u001b[39m\u001b[38;5;241m3600\u001b[39m\n\u001b[0;32m      3\u001b[0m draw_CMDCnt_RebCnt_R1R2(AData, Aresolution, \u001b[38;5;124m'\u001b[39m\u001b[38;5;124m0115_2s\u001b[39m\u001b[38;5;124m'\u001b[39m)\n",
      "Cell \u001b[1;32mIn[69], line 2\u001b[0m, in \u001b[0;36mopen\u001b[1;34m(OpenfileName)\u001b[0m\n\u001b[0;32m      1\u001b[0m \u001b[38;5;28;01mdef\u001b[39;00m \u001b[38;5;21mopen\u001b[39m(OpenfileName):\n\u001b[1;32m----> 2\u001b[0m     \u001b[38;5;28;01mwith\u001b[39;00m \u001b[38;5;28;43mopen\u001b[39;49m\u001b[43m(\u001b[49m\u001b[43mOpenfileName\u001b[49m\u001b[43m,\u001b[49m\u001b[43m \u001b[49m\u001b[43mnewline\u001b[49m\u001b[38;5;241;43m=\u001b[39;49m\u001b[38;5;124;43m'\u001b[39;49m\u001b[38;5;124;43m'\u001b[39;49m\u001b[43m)\u001b[49m \u001b[38;5;28;01mas\u001b[39;00m csvfile:\n\u001b[0;32m      3\u001b[0m     \u001b[38;5;66;03m# 讀取 CSV 檔案內容\u001b[39;00m\n\u001b[0;32m      4\u001b[0m         rows \u001b[38;5;241m=\u001b[39m csv\u001b[38;5;241m.\u001b[39mreader(csvfile)\n\u001b[0;32m      5\u001b[0m         data1 \u001b[38;5;241m=\u001b[39m \u001b[38;5;28mlist\u001b[39m(rows)\n",
      "\u001b[1;31mTypeError\u001b[0m: open() got an unexpected keyword argument 'newline'"
     ]
    }
   ],
   "source": [
    "ADate = open('data\\process\\V4b(2)_0115_2s(P).CSV')\n",
    "Aresolution = 2/3600\n",
    "draw_CMDCnt_RebCnt_R1R2(AData, Aresolution, '0115_2s')"
   ]
  },
  {
   "cell_type": "code",
   "execution_count": 29,
   "metadata": {},
   "outputs": [],
   "source": [
    "length = int((len(data)))\n",
    "tmp = np.zeros((length))\n",
    "CMD_acc_c = np.zeros((length))\n",
    "hk_num_c = np.zeros((length))\n",
    "reb_c = np.zeros((length))\n",
    "_sci_write_num_ = np.zeros((length))\n",
    "R1 = np.zeros((length))\n",
    "R2 = np.zeros((length))\n",
    "for i in range(1,len(data)):\n",
    "    tmp[i] =   (data[i][0])\n",
    "    CMD_acc_c[i] =   data[i][2]\n",
    "    reb_c[i] =   data[i][6]\n",
    "    _sci_write_num_[i] =   data[i][9]\n",
    "    R1[i] =    data[i][11]\n",
    "    R2[i] =    data[i][12]\n"
   ]
  },
  {
   "cell_type": "code",
   "execution_count": 65,
   "metadata": {},
   "outputs": [],
   "source": [
    "# plt.scatter(tmp*2/3600,CMD_acc_c, s=0.25, color='b', label=f'R1')\n",
    "# plt.axis([-1, length*2/3600, -50,300])\n",
    "# plt.xlabel(\" Time (hrs)\")\n",
    "# plt.title(f'Command Counter (0115_2s)') "
   ]
  },
  {
   "cell_type": "code",
   "execution_count": 64,
   "metadata": {},
   "outputs": [],
   "source": [
    "# plt.scatter(tmp*2/3600,reb_c, s=0.25, color='b', label=f'R1')\n",
    "# plt.axis([-1, length*2/3600, -1,70])\n",
    "# plt.xlabel(\" Time (hrs)\")\n",
    "# plt.title(f'Reboot Counter (0115_2s)') "
   ]
  },
  {
   "cell_type": "code",
   "execution_count": 63,
   "metadata": {},
   "outputs": [],
   "source": [
    "# plt.scatter(tmp*2/3600,R1, s=0.25, color='g', label=f'R1')\n",
    "# plt.scatter(tmp*2/3600,R2, s=0.25, color='r', label=f'R2')\n",
    "# plt.legend() \n",
    "# plt.xlabel(\" Time (hrs)\")\n",
    "# plt.ylabel(\"Voltage (V)\")\n",
    "# plt.title(f'RADFET Voltage (0115_2s)') "
   ]
  },
  {
   "cell_type": "code",
   "execution_count": 76,
   "metadata": {},
   "outputs": [
    {
     "name": "stderr",
     "output_type": "stream",
     "text": [
      "<>:1: SyntaxWarning: invalid escape sequence '\\p'\n",
      "<>:1: SyntaxWarning: invalid escape sequence '\\p'\n",
      "C:\\Users\\user\\AppData\\Local\\Temp\\ipykernel_6252\\3317325783.py:1: SyntaxWarning: invalid escape sequence '\\p'\n",
      "  with open('data\\process\\V4b(2)_0124_10s(P).CSV', newline='') as csvfile:\n",
      "C:\\Users\\user\\AppData\\Local\\Temp\\ipykernel_6252\\3317325783.py:1: SyntaxWarning: invalid escape sequence '\\p'\n",
      "  with open('data\\process\\V4b(2)_0124_10s(P).CSV', newline='') as csvfile:\n"
     ]
    },
    {
     "ename": "TypeError",
     "evalue": "open() got an unexpected keyword argument 'newline'",
     "output_type": "error",
     "traceback": [
      "\u001b[1;31m---------------------------------------------------------------------------\u001b[0m",
      "\u001b[1;31mTypeError\u001b[0m                                 Traceback (most recent call last)",
      "Cell \u001b[1;32mIn[76], line 1\u001b[0m\n\u001b[1;32m----> 1\u001b[0m \u001b[38;5;28;01mwith\u001b[39;00m \u001b[38;5;28;43mopen\u001b[39;49m\u001b[43m(\u001b[49m\u001b[38;5;124;43m'\u001b[39;49m\u001b[38;5;124;43mdata\u001b[39;49m\u001b[38;5;124;43m\\\u001b[39;49m\u001b[38;5;124;43mprocess\u001b[39;49m\u001b[38;5;124;43m\\\u001b[39;49m\u001b[38;5;124;43mV4b(2)_0124_10s(P).CSV\u001b[39;49m\u001b[38;5;124;43m'\u001b[39;49m\u001b[43m,\u001b[49m\u001b[43m \u001b[49m\u001b[43mnewline\u001b[49m\u001b[38;5;241;43m=\u001b[39;49m\u001b[38;5;124;43m'\u001b[39;49m\u001b[38;5;124;43m'\u001b[39;49m\u001b[43m)\u001b[49m \u001b[38;5;28;01mas\u001b[39;00m csvfile:\n\u001b[0;32m      2\u001b[0m \u001b[38;5;66;03m# 讀取 CSV 檔案內容\u001b[39;00m\n\u001b[0;32m      3\u001b[0m         rows \u001b[38;5;241m=\u001b[39m csv\u001b[38;5;241m.\u001b[39mreader(csvfile)\n\u001b[0;32m      4\u001b[0m         data \u001b[38;5;241m=\u001b[39m \u001b[38;5;28mlist\u001b[39m(rows)\n",
      "\u001b[1;31mTypeError\u001b[0m: open() got an unexpected keyword argument 'newline'"
     ]
    }
   ],
   "source": [
    "with open('data\\process\\V4b(2)_0124_10s(P).CSV', newline='') as csvfile:\n",
    "# 讀取 CSV 檔案內容\n",
    "        rows = csv.reader(csvfile)\n",
    "        data = list(rows)\n",
    "    "
   ]
  },
  {
   "cell_type": "code",
   "execution_count": 57,
   "metadata": {},
   "outputs": [],
   "source": [
    "length = int((len(data)))\n",
    "tmp = np.zeros((length))\n",
    "CMD_acc_c = np.zeros((length))\n",
    "hk_num_c = np.zeros((length))\n",
    "reb_c = np.zeros((length))\n",
    "_sci_write_num_ = np.zeros((length))\n",
    "R1 = np.zeros((length))\n",
    "R2 = np.zeros((length))\n",
    "for i in range(1,len(data)):\n",
    "    tmp[i] =   (data[i][0])\n",
    "    CMD_acc_c[i] =   data[i][2]\n",
    "    reb_c[i] =   data[i][6]\n",
    "    _sci_write_num_[i] =   data[i][9]\n",
    "    R1[i] =    data[i][11]\n",
    "    R2[i] =    data[i][12]\n"
   ]
  },
  {
   "cell_type": "code",
   "execution_count": 66,
   "metadata": {},
   "outputs": [],
   "source": [
    "# resolution = 10/3600\n",
    "# plt.scatter(tmp*resolution,CMD_acc_c, s=0.25, color='b', label=f'R1')\n",
    "# plt.axis([-1, length*resolution, -50,300])\n",
    "# plt.xlabel(\" Time (hrs)\")\n",
    "# plt.title(f'Command Counter (0125_2s)') "
   ]
  },
  {
   "cell_type": "code",
   "execution_count": 67,
   "metadata": {},
   "outputs": [],
   "source": [
    "# plt.scatter(tmp*resolution,reb_c, s=0.25, color='b', label=f'R1')\n",
    "# plt.axis([-1, length*resolution, -1,70])\n",
    "# plt.xlabel(\" Time (hrs)\")\n",
    "# plt.title(f'Reboot Counter (0124_10s)') "
   ]
  },
  {
   "cell_type": "code",
   "execution_count": 68,
   "metadata": {},
   "outputs": [],
   "source": [
    "# plt.scatter(tmp*resolution,R1, s=0.25, color='g', label=f'R1')\n",
    "# plt.scatter(tmp*resolution,R2, s=0.25, color='r', label=f'R2')\n",
    "# plt.legend() \n",
    "# plt.xlabel(\" Time (hrs)\")\n",
    "# plt.ylabel(\"Voltage (V)\")\n",
    "# plt.title(f'RADFET Voltage (0115_2s)') "
   ]
  }
 ],
 "metadata": {
  "kernelspec": {
   "display_name": "Python 3",
   "language": "python",
   "name": "python3"
  },
  "language_info": {
   "codemirror_mode": {
    "name": "ipython",
    "version": 3
   },
   "file_extension": ".py",
   "mimetype": "text/x-python",
   "name": "python",
   "nbconvert_exporter": "python",
   "pygments_lexer": "ipython3",
   "version": "3.12.0"
  }
 },
 "nbformat": 4,
 "nbformat_minor": 2
}
