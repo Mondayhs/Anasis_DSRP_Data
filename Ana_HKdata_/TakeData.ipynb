{
 "cells": [
  {
   "cell_type": "code",
   "execution_count": 1,
   "metadata": {},
   "outputs": [],
   "source": [
    "import numpy as np\n",
    "import csv\n",
    "# import pygsheets\n",
    "# import requests"
   ]
  },
  {
   "cell_type": "code",
   "execution_count": 99,
   "metadata": {},
   "outputs": [
    {
     "name": "stderr",
     "output_type": "stream",
     "text": [
      "<>:1: SyntaxWarning: invalid escape sequence '\\o'\n",
      "<>:1: SyntaxWarning: invalid escape sequence '\\o'\n",
      "C:\\Users\\user\\AppData\\Local\\Temp\\ipykernel_23944\\105307287.py:1: SyntaxWarning: invalid escape sequence '\\o'\n",
      "  with open(\"data\\origin\\V4b(2)_0115_2s.CSV\", newline='') as csvfile:\n"
     ]
    }
   ],
   "source": [
    "with open(\"data\\origin\\V4b(2)_0115_2s.CSV\", newline='') as csvfile:\n",
    "    # 讀取 CSV 檔案內容\n",
    "        rows = csv.reader(csvfile)\n",
    "        data = list(rows)"
   ]
  },
  {
   "cell_type": "code",
   "execution_count": 101,
   "metadata": {},
   "outputs": [
    {
     "data": {
      "text/plain": [
       "0.0"
      ]
     },
     "execution_count": 101,
     "metadata": {},
     "output_type": "execute_result"
    }
   ],
   "source": [
    " i=0\n",
    " length = int((len(data))/6)\n",
    " All_Data = (np.zeros((length,20))).tolist()  \n",
    " All_Data[1][0]"
   ]
  },
  {
   "cell_type": "code",
   "execution_count": 124,
   "metadata": {},
   "outputs": [],
   "source": [
    "# have \"=\"\n",
    "def Export_Data(OpenfileName, SavefileName):\n",
    "    # OpenfileName = OpenfileName.CSV\n",
    "    # 開啟 CSV 檔案\n",
    "    with open(OpenfileName, newline='') as csvfile:\n",
    "    # 讀取 CSV 檔案內容\n",
    "        rows = csv.reader(csvfile)\n",
    "        data = list(rows)\n",
    "    length = int((len(data))/6)\n",
    "    All_Data = (np.zeros((length,20))).tolist()  \n",
    "    All_Data[0][0] = 'Times'\n",
    "    All_Data[0][1] = 'Time'\n",
    "    All_Data[0][2] = 'CMD accept cnt.'\n",
    "    All_Data[0][3] = 'last accept CMD'\n",
    "    All_Data[0][4] = 'last error CMD'\n",
    "    All_Data[0][5] = '_hk_number_'\n",
    "    All_Data[0][6] = 'reboot_cnt'\n",
    "    All_Data[0][7] = 'mode_status'\n",
    "    All_Data[0][8] = '_sample_rate_'\n",
    "    All_Data[0][9] = '_sci_write_num_'\n",
    "    All_Data[0][10] = '_sci_time_'\n",
    "    All_Data[0][11] = 'R1'\n",
    "    All_Data[0][12] = 'R2'\n",
    "    All_Data[0][13] = '_seu_count_'\n",
    "    All_Data[0][14] = '_sci_read_num_'\n",
    "    All_Data[0][15] = 'CMD err cnt.'\n",
    "    All_Data[0][16] = 'RADFET err cnt.'\n",
    "    All_Data[0][17] = 'WDT err cnt'\n",
    "    All_Data[0][18] = 'SOM Tmp.'\n",
    "    All_Data[0][19] = 'RADFET Tmp.'    \n",
    "    for i in range(1,length):\n",
    "        All_Data[i][0] = i\n",
    "        All_Data[i][1] = data[i*6+5][0]                      # Time\n",
    "        All_Data[i][2] = int(data[i*6][2][17:19],16)         # CMD accept cnt. \n",
    "        All_Data[i][3] = data[i*6][2][20:22]                 # last accept CMD \n",
    "        All_Data[i][4] = data[i*6][2][23:25]                 # last error CMD \n",
    "        All_Data[i][5] = int(data[i*6+1][2][2:4]+data[i*6+1][2][5:7]+data[i*6+1][2][8:10]+data[i*6+1][2][11:13],16)         #_hk_number_\n",
    "        All_Data[i][6] = int(data[i*6+1][2][14:16],16)       # reboot cnt.\n",
    "        All_Data[i][7] = data[i*6+1][2][17:19]               # mode_status\n",
    "        All_Data[i][8] = int(data[i*6+2][2][2:4]+data[i*6+2][2][5:7],16)      # _sample_rate_\n",
    "        All_Data[i][9] = int(data[i*6+2][2][8:10]+data[i*6+2][2][11:13]+data[i*6+2][2][14:16]+data[i*6+2][2][17:19],16)     # _sci_write_num_\n",
    "        All_Data[i][10] = data[i*6+2][2][20:15]+data[i*6+3][2][2:7]           # _sci_time_\n",
    "        All_Data[i][11] = int(data[i*6+3][2][8:10]+data[i*6+3][2][11:13]+data[i*6+3][2][14:16],16)*((2*2.5)/(2**23-1))      # R1\n",
    "        All_Data[i][12] = int(data[i*6+3][2][17:19]+data[i*6+3][2][20:22]+data[i*6+3][2][23:25],16)*((2*2.5)/(2**23-1))     # R2\n",
    "        All_Data[i][13] = int(data[i*6+4][2][2:4]+data[i*6+4][2][5:7]+data[i*6+4][2][8:10]+data[i*6+4][2][11:13],16)        # seu cnt.\n",
    "        All_Data[i][14] = data[i*6+4][2][14:25]              # _sci_read_num_\n",
    "        All_Data[i][15] = int(data[i*6+5][2][2:4],16)        # CMD err cnt.\n",
    "        All_Data[i][16] =  int(data[i*6+5][2][5:7],16)       # RADFET err cnt.\n",
    "        All_Data[i][17] = int(data[i*6+5][2][8:10],16)       # WDT err cnt.\n",
    "        All_Data[i][18] = int(data[i*6+5][2][11:13],16)      # SOM Tmp.\n",
    "        All_Data[i][19] = int(data[i*6+5][2][14:16],16)      # RADFET Tmp.\n",
    "        \n",
    "    res = All_Data\n",
    "    # opening the file\n",
    "    with open(SavefileName, \"w\", newline=\"\") as f:\n",
    "        # creating the writer\n",
    "        writer = csv.writer(f)\n",
    "        # using writerows, all rows at once\n",
    "        writer.writerows(All_Data)\n",
    "    return res"
   ]
  },
  {
   "cell_type": "code",
   "execution_count": 125,
   "metadata": {},
   "outputs": [
    {
     "name": "stderr",
     "output_type": "stream",
     "text": [
      "<>:1: SyntaxWarning: invalid escape sequence '\\o'\n",
      "<>:1: SyntaxWarning: invalid escape sequence '\\p'\n",
      "<>:1: SyntaxWarning: invalid escape sequence '\\o'\n",
      "<>:1: SyntaxWarning: invalid escape sequence '\\p'\n",
      "C:\\Users\\user\\AppData\\Local\\Temp\\ipykernel_23944\\2468511123.py:1: SyntaxWarning: invalid escape sequence '\\o'\n",
      "  Data_0115 = Export_Data('data\\origin\\V4b(2)_0115_2s.CSV','data\\process\\V4b(2)_0115_2s(P).CSV')\n",
      "C:\\Users\\user\\AppData\\Local\\Temp\\ipykernel_23944\\2468511123.py:1: SyntaxWarning: invalid escape sequence '\\p'\n",
      "  Data_0115 = Export_Data('data\\origin\\V4b(2)_0115_2s.CSV','data\\process\\V4b(2)_0115_2s(P).CSV')\n"
     ]
    }
   ],
   "source": [
    "Data_0115 = Export_Data('data\\origin\\V4b(2)_0115_2s.CSV','data\\process\\V4b(2)_0115_2s(P).CSV')"
   ]
  },
  {
   "cell_type": "code",
   "execution_count": 123,
   "metadata": {},
   "outputs": [
    {
     "data": {
      "text/plain": [
       "72"
      ]
     },
     "execution_count": 123,
     "metadata": {},
     "output_type": "execute_result"
    }
   ],
   "source": []
  }
 ],
 "metadata": {
  "kernelspec": {
   "display_name": "Python 3",
   "language": "python",
   "name": "python3"
  },
  "language_info": {
   "codemirror_mode": {
    "name": "ipython",
    "version": 3
   },
   "file_extension": ".py",
   "mimetype": "text/x-python",
   "name": "python",
   "nbconvert_exporter": "python",
   "pygments_lexer": "ipython3",
   "version": "3.12.0"
  }
 },
 "nbformat": 4,
 "nbformat_minor": 2
}
