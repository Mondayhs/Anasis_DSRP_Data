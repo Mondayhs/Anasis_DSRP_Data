{
 "cells": [
  {
   "cell_type": "code",
   "execution_count": 3,
   "metadata": {},
   "outputs": [],
   "source": [
    "import numpy as np\n",
    "import csv\n",
    "# import pygsheets\n",
    "# import requests"
   ]
  },
  {
   "cell_type": "code",
   "execution_count": 99,
   "metadata": {},
   "outputs": [
    {
     "name": "stderr",
     "output_type": "stream",
     "text": [
      "<>:1: SyntaxWarning: invalid escape sequence '\\o'\n",
      "<>:1: SyntaxWarning: invalid escape sequence '\\o'\n",
      "C:\\Users\\user\\AppData\\Local\\Temp\\ipykernel_23944\\105307287.py:1: SyntaxWarning: invalid escape sequence '\\o'\n",
      "  with open(\"data\\origin\\V4b(2)_0115_2s.CSV\", newline='') as csvfile:\n"
     ]
    }
   ],
   "source": [
    "with open(\"data\\origin\\V4b(2)_0115_2s.CSV\", newline='') as csvfile:\n",
    "    # 讀取 CSV 檔案內容\n",
    "        rows = csv.reader(csvfile)\n",
    "        data = list(rows)"
   ]
  },
  {
   "cell_type": "code",
   "execution_count": 101,
   "metadata": {},
   "outputs": [
    {
     "data": {
      "text/plain": [
       "0.0"
      ]
     },
     "execution_count": 101,
     "metadata": {},
     "output_type": "execute_result"
    }
   ],
   "source": [
    " i=0\n",
    " length = int((len(data))/6)\n",
    " All_Data = (np.zeros((length,20))).tolist()  \n",
    " All_Data[1][0]"
   ]
  },
  {
   "cell_type": "code",
   "execution_count": 4,
   "metadata": {},
   "outputs": [],
   "source": [
    "# have \"=\"\n",
    "def Export_Data(OpenfileName, SavefileName):\n",
    "    # OpenfileName = OpenfileName.CSV\n",
    "    # 開啟 CSV 檔案\n",
    "    with open(OpenfileName, newline='') as csvfile:\n",
    "    # 讀取 CSV 檔案內容\n",
    "        rows = csv.reader(csvfile)\n",
    "        data = list(rows)\n",
    "    length = int((len(data))/6)\n",
    "    All_Data = (np.zeros((length,20))).tolist()  \n",
    "    All_Data[0][0] = 'Times'\n",
    "    All_Data[0][1] = 'Time'\n",
    "    All_Data[0][2] = 'CMD accept cnt.'\n",
    "    All_Data[0][3] = 'last accept CMD'\n",
    "    All_Data[0][4] = 'last error CMD'\n",
    "    All_Data[0][5] = '_hk_number_'\n",
    "    All_Data[0][6] = 'reboot_cnt'\n",
    "    All_Data[0][7] = 'mode_status'\n",
    "    All_Data[0][8] = '_sample_rate_'\n",
    "    All_Data[0][9] = '_sci_write_num_'\n",
    "    All_Data[0][10] = '_sci_time_'\n",
    "    All_Data[0][11] = 'R1'\n",
    "    All_Data[0][12] = 'R2'\n",
    "    All_Data[0][13] = '_seu_count_'\n",
    "    All_Data[0][14] = '_sci_read_num_'\n",
    "    All_Data[0][15] = 'CMD err cnt.'\n",
    "    All_Data[0][16] = 'RADFET err cnt.'\n",
    "    All_Data[0][17] = 'WDT err cnt'\n",
    "    All_Data[0][18] = 'SOM Tmp.'\n",
    "    All_Data[0][19] = 'RADFET Tmp.'    \n",
    "    for i in range(1,length):\n",
    "        All_Data[i][0] = i\n",
    "        All_Data[i][1] = data[i*6+5][0]                      # Time\n",
    "        All_Data[i][2] = int(data[i*6][2][17:19],16)         # CMD accept cnt. \n",
    "        All_Data[i][3] = data[i*6][2][20:22]                 # last accept CMD \n",
    "        All_Data[i][4] = data[i*6][2][23:25]                 # last error CMD \n",
    "        All_Data[i][5] = int(data[i*6+1][2][2:4]+data[i*6+1][2][5:7]+data[i*6+1][2][8:10]+data[i*6+1][2][11:13],16)         #_hk_number_\n",
    "        All_Data[i][6] = int(data[i*6+1][2][14:16],16)       # reboot cnt.\n",
    "        All_Data[i][7] = data[i*6+1][2][17:19]               # mode_status\n",
    "        All_Data[i][8] = int(data[i*6+2][2][2:4]+data[i*6+2][2][5:7],16)      # _sample_rate_\n",
    "        All_Data[i][9] = int(data[i*6+2][2][8:10]+data[i*6+2][2][11:13]+data[i*6+2][2][14:16]+data[i*6+2][2][17:19],16)     # _sci_write_num_\n",
    "        All_Data[i][10] = data[i*6+2][2][20:15]+data[i*6+3][2][2:7]           # _sci_time_\n",
    "        All_Data[i][11] = int(data[i*6+3][2][8:10]+data[i*6+3][2][11:13]+data[i*6+3][2][14:16],16)*((2*2.5)/(2**23-1))      # R1\n",
    "        All_Data[i][12] = int(data[i*6+3][2][17:19]+data[i*6+3][2][20:22]+data[i*6+3][2][23:25],16)*((2*2.5)/(2**23-1))     # R2\n",
    "        All_Data[i][13] = int(data[i*6+4][2][2:4]+data[i*6+4][2][5:7]+data[i*6+4][2][8:10]+data[i*6+4][2][11:13],16)        # seu cnt.\n",
    "        All_Data[i][14] = data[i*6+4][2][14:25]              # _sci_read_num_\n",
    "        All_Data[i][15] = int(data[i*6+5][2][2:4],16)        # CMD err cnt.\n",
    "        All_Data[i][16] =  int(data[i*6+5][2][5:7],16)       # RADFET err cnt.\n",
    "        All_Data[i][17] = int(data[i*6+5][2][8:10],16)       # WDT err cnt.\n",
    "        All_Data[i][18] = int(data[i*6+5][2][11:13],16)      # SOM Tmp.\n",
    "        All_Data[i][19] = int(data[i*6+5][2][14:16],16)      # RADFET Tmp.\n",
    "        \n",
    "    res = All_Data\n",
    "    # opening the file\n",
    "    with open(SavefileName, \"w\", newline=\"\") as f:\n",
    "        # creating the writer\n",
    "        writer = csv.writer(f)\n",
    "        # using writerows, all rows at once\n",
    "        writer.writerows(All_Data)\n",
    "    # return res"
   ]
  },
  {
   "cell_type": "code",
   "execution_count": 13,
   "metadata": {},
   "outputs": [
    {
     "name": "stderr",
     "output_type": "stream",
     "text": [
      "<>:1: SyntaxWarning: invalid escape sequence '\\o'\n",
      "<>:1: SyntaxWarning: invalid escape sequence '\\p'\n",
      "<>:1: SyntaxWarning: invalid escape sequence '\\o'\n",
      "<>:1: SyntaxWarning: invalid escape sequence '\\p'\n",
      "C:\\Users\\user\\AppData\\Local\\Temp\\ipykernel_5548\\2468511123.py:1: SyntaxWarning: invalid escape sequence '\\o'\n",
      "  Data_0115 = Export_Data('data\\origin\\V4b(2)_0115_2s.CSV','data\\process\\V4b(2)_0115_2s(P).CSV')\n",
      "C:\\Users\\user\\AppData\\Local\\Temp\\ipykernel_5548\\2468511123.py:1: SyntaxWarning: invalid escape sequence '\\p'\n",
      "  Data_0115 = Export_Data('data\\origin\\V4b(2)_0115_2s.CSV','data\\process\\V4b(2)_0115_2s(P).CSV')\n"
     ]
    }
   ],
   "source": [
    "Data_0115 = Export_Data('data\\origin\\V4b(2)_0115_2s.CSV','data\\process\\V4b(2)_0115_2s(P).CSV')"
   ]
  },
  {
   "cell_type": "code",
   "execution_count": 11,
   "metadata": {},
   "outputs": [
    {
     "name": "stderr",
     "output_type": "stream",
     "text": [
      "<>:1: SyntaxWarning: invalid escape sequence '\\o'\n",
      "<>:1: SyntaxWarning: invalid escape sequence '\\p'\n",
      "<>:1: SyntaxWarning: invalid escape sequence '\\o'\n",
      "<>:1: SyntaxWarning: invalid escape sequence '\\p'\n",
      "C:\\Users\\user\\AppData\\Local\\Temp\\ipykernel_5548\\962071453.py:1: SyntaxWarning: invalid escape sequence '\\o'\n",
      "  Export_Data('data\\origin\\V4b(2)_0124_HK10TM1_1','data\\process\\V4b(2)_0124_10s(P).CSV')\n",
      "C:\\Users\\user\\AppData\\Local\\Temp\\ipykernel_5548\\962071453.py:1: SyntaxWarning: invalid escape sequence '\\p'\n",
      "  Export_Data('data\\origin\\V4b(2)_0124_HK10TM1_1','data\\process\\V4b(2)_0124_10s(P).CSV')\n",
      "C:\\Users\\user\\AppData\\Local\\Temp\\ipykernel_5548\\962071453.py:1: SyntaxWarning: invalid escape sequence '\\o'\n",
      "  Export_Data('data\\origin\\V4b(2)_0124_HK10TM1_1','data\\process\\V4b(2)_0124_10s(P).CSV')\n",
      "C:\\Users\\user\\AppData\\Local\\Temp\\ipykernel_5548\\962071453.py:1: SyntaxWarning: invalid escape sequence '\\p'\n",
      "  Export_Data('data\\origin\\V4b(2)_0124_HK10TM1_1','data\\process\\V4b(2)_0124_10s(P).CSV')\n"
     ]
    },
    {
     "ename": "FileNotFoundError",
     "evalue": "[Errno 2] No such file or directory: 'data\\\\origin\\\\V4b(2)_0124_HK10TM1_1'",
     "output_type": "error",
     "traceback": [
      "\u001b[1;31m---------------------------------------------------------------------------\u001b[0m",
      "\u001b[1;31mFileNotFoundError\u001b[0m                         Traceback (most recent call last)",
      "Cell \u001b[1;32mIn[11], line 1\u001b[0m\n\u001b[1;32m----> 1\u001b[0m \u001b[43mExport_Data\u001b[49m\u001b[43m(\u001b[49m\u001b[38;5;124;43m'\u001b[39;49m\u001b[38;5;124;43mdata\u001b[39;49m\u001b[38;5;124;43m\\\u001b[39;49m\u001b[38;5;124;43morigin\u001b[39;49m\u001b[38;5;124;43m\\\u001b[39;49m\u001b[38;5;124;43mV4b(2)_0124_HK10TM1_1\u001b[39;49m\u001b[38;5;124;43m'\u001b[39;49m\u001b[43m,\u001b[49m\u001b[38;5;124;43m'\u001b[39;49m\u001b[38;5;124;43mdata\u001b[39;49m\u001b[38;5;124;43m\\\u001b[39;49m\u001b[38;5;124;43mprocess\u001b[39;49m\u001b[38;5;124;43m\\\u001b[39;49m\u001b[38;5;124;43mV4b(2)_0124_10s(P).CSV\u001b[39;49m\u001b[38;5;124;43m'\u001b[39;49m\u001b[43m)\u001b[49m\n",
      "Cell \u001b[1;32mIn[4], line 5\u001b[0m, in \u001b[0;36mExport_Data\u001b[1;34m(OpenfileName, SavefileName)\u001b[0m\n\u001b[0;32m      2\u001b[0m \u001b[38;5;28;01mdef\u001b[39;00m \u001b[38;5;21mExport_Data\u001b[39m(OpenfileName, SavefileName):\n\u001b[0;32m      3\u001b[0m     \u001b[38;5;66;03m# OpenfileName = OpenfileName.CSV\u001b[39;00m\n\u001b[0;32m      4\u001b[0m     \u001b[38;5;66;03m# 開啟 CSV 檔案\u001b[39;00m\n\u001b[1;32m----> 5\u001b[0m     \u001b[38;5;28;01mwith\u001b[39;00m \u001b[38;5;28;43mopen\u001b[39;49m\u001b[43m(\u001b[49m\u001b[43mOpenfileName\u001b[49m\u001b[43m,\u001b[49m\u001b[43m \u001b[49m\u001b[43mnewline\u001b[49m\u001b[38;5;241;43m=\u001b[39;49m\u001b[38;5;124;43m'\u001b[39;49m\u001b[38;5;124;43m'\u001b[39;49m\u001b[43m)\u001b[49m \u001b[38;5;28;01mas\u001b[39;00m csvfile:\n\u001b[0;32m      6\u001b[0m     \u001b[38;5;66;03m# 讀取 CSV 檔案內容\u001b[39;00m\n\u001b[0;32m      7\u001b[0m         rows \u001b[38;5;241m=\u001b[39m csv\u001b[38;5;241m.\u001b[39mreader(csvfile)\n\u001b[0;32m      8\u001b[0m         data \u001b[38;5;241m=\u001b[39m \u001b[38;5;28mlist\u001b[39m(rows)\n",
      "File \u001b[1;32m~\\AppData\\Roaming\\Python\\Python312\\site-packages\\IPython\\core\\interactiveshell.py:308\u001b[0m, in \u001b[0;36m_modified_open\u001b[1;34m(file, *args, **kwargs)\u001b[0m\n\u001b[0;32m    301\u001b[0m \u001b[38;5;28;01mif\u001b[39;00m file \u001b[38;5;129;01min\u001b[39;00m {\u001b[38;5;241m0\u001b[39m, \u001b[38;5;241m1\u001b[39m, \u001b[38;5;241m2\u001b[39m}:\n\u001b[0;32m    302\u001b[0m     \u001b[38;5;28;01mraise\u001b[39;00m \u001b[38;5;167;01mValueError\u001b[39;00m(\n\u001b[0;32m    303\u001b[0m         \u001b[38;5;124mf\u001b[39m\u001b[38;5;124m\"\u001b[39m\u001b[38;5;124mIPython won\u001b[39m\u001b[38;5;124m'\u001b[39m\u001b[38;5;124mt let you open fd=\u001b[39m\u001b[38;5;132;01m{\u001b[39;00mfile\u001b[38;5;132;01m}\u001b[39;00m\u001b[38;5;124m by default \u001b[39m\u001b[38;5;124m\"\u001b[39m\n\u001b[0;32m    304\u001b[0m         \u001b[38;5;124m\"\u001b[39m\u001b[38;5;124mas it is likely to crash IPython. If you know what you are doing, \u001b[39m\u001b[38;5;124m\"\u001b[39m\n\u001b[0;32m    305\u001b[0m         \u001b[38;5;124m\"\u001b[39m\u001b[38;5;124myou can use builtins\u001b[39m\u001b[38;5;124m'\u001b[39m\u001b[38;5;124m open.\u001b[39m\u001b[38;5;124m\"\u001b[39m\n\u001b[0;32m    306\u001b[0m     )\n\u001b[1;32m--> 308\u001b[0m \u001b[38;5;28;01mreturn\u001b[39;00m \u001b[43mio_open\u001b[49m\u001b[43m(\u001b[49m\u001b[43mfile\u001b[49m\u001b[43m,\u001b[49m\u001b[43m \u001b[49m\u001b[38;5;241;43m*\u001b[39;49m\u001b[43margs\u001b[49m\u001b[43m,\u001b[49m\u001b[43m \u001b[49m\u001b[38;5;241;43m*\u001b[39;49m\u001b[38;5;241;43m*\u001b[39;49m\u001b[43mkwargs\u001b[49m\u001b[43m)\u001b[49m\n",
      "\u001b[1;31mFileNotFoundError\u001b[0m: [Errno 2] No such file or directory: 'data\\\\origin\\\\V4b(2)_0124_HK10TM1_1'"
     ]
    }
   ],
   "source": [
    "Export_Data('data\\origin\\V4b(2)_0124_HK10TM1_1','data\\process\\V4b(2)_0124_10s(P).CSV')"
   ]
  },
  {
   "cell_type": "code",
   "execution_count": 10,
   "metadata": {},
   "outputs": [
    {
     "name": "stderr",
     "output_type": "stream",
     "text": [
      "<>:1: SyntaxWarning: invalid escape sequence '\\o'\n",
      "<>:1: SyntaxWarning: invalid escape sequence '\\p'\n",
      "<>:1: SyntaxWarning: invalid escape sequence '\\o'\n",
      "<>:1: SyntaxWarning: invalid escape sequence '\\p'\n",
      "C:\\Users\\user\\AppData\\Local\\Temp\\ipykernel_5548\\3282420064.py:1: SyntaxWarning: invalid escape sequence '\\o'\n",
      "  Export_Data('data\\origin\\V4b(2)_0124_HK10TM1_2.CSV','data\\process\\V4b(2)_0124_HK10TM1_2(P).CSV')\n",
      "C:\\Users\\user\\AppData\\Local\\Temp\\ipykernel_5548\\3282420064.py:1: SyntaxWarning: invalid escape sequence '\\p'\n",
      "  Export_Data('data\\origin\\V4b(2)_0124_HK10TM1_2.CSV','data\\process\\V4b(2)_0124_HK10TM1_2(P).CSV')\n"
     ]
    }
   ],
   "source": [
    "\n",
    "Export_Data('data\\origin\\V4b(2)_0124_HK10TM1_2.CSV','data\\process\\V4b(2)_0124_HK10TM1_2(P).CSV')\n"
   ]
  }
 ],
 "metadata": {
  "kernelspec": {
   "display_name": "Python 3",
   "language": "python",
   "name": "python3"
  },
  "language_info": {
   "codemirror_mode": {
    "name": "ipython",
    "version": 3
   },
   "file_extension": ".py",
   "mimetype": "text/x-python",
   "name": "python",
   "nbconvert_exporter": "python",
   "pygments_lexer": "ipython3",
   "version": "3.12.0"
  }
 },
 "nbformat": 4,
 "nbformat_minor": 2
}
