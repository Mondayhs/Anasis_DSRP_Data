{
 "cells": [
  {
   "cell_type": "code",
   "execution_count": 4,
   "metadata": {},
   "outputs": [
    {
     "name": "stdout",
     "output_type": "stream",
     "text": [
      "Populating the interactive namespace from numpy and matplotlib\n"
     ]
    }
   ],
   "source": [
    "import numpy as np\n",
    "%pylab inline\n",
    "from matplotlib import pyplot as plt\n",
    "import csv"
   ]
  },
  {
   "cell_type": "code",
   "execution_count": 8,
   "metadata": {},
   "outputs": [],
   "source": [
    "def FindErrTotalTimePercetage(OpenfileName, n, Datee):\n",
    "    with open(OpenfileName, 'r') as csvfile:\n",
    "    # 讀取 CSV 檔案內容\n",
    "        rows = csv.reader(csvfile)\n",
    "        data = list(rows)\n",
    "    t=0\n",
    "    Timess =0\n",
    "    length = int((len(data)))\n",
    "    hapen=0\n",
    "    inteval = []\n",
    "    for i in range(1,len(data)):\n",
    "        R1 =   float(data[i][11])\n",
    "        R2 =   float(data[i][12])\n",
    "        if ((t > n) & (2.0>R2>1.0) & (2.0>R1>1.0)):\n",
    "            beforT = int(hapen[0:2])*60+int(hapen[3:5])\n",
    "            if (int(hapen[0:2])<=int(data[i][1][2:4])):\n",
    "                afterT = int(data[i][1][2:4])*60+int(data[i][1][5:7])\n",
    "                # print(f'{beforT},--{afterT}')\n",
    "            else:\n",
    "                afterT = (int(data[i][1][2:4])+24)*60+int(data[i][1][5:7])\n",
    "            inteval.append(afterT-beforT)\n",
    "            Timess+=1\n",
    "        if((2.0>R2>1.0) & (2.0>R1>1.0)):\n",
    "            t=0\n",
    "        else: t+=1\n",
    "        if(t == n):\n",
    "            hapen = data[i-t][1][2:7]\n",
    "            # print(data[i-t][1][2:7])\n",
    "    print(Datee)\n",
    "    print(length*30/60)\n",
    "\n",
    "    print(sum(inteval))\n",
    "    totalTM = sum(inteval)\n",
    "    percent = (totalTM/(length*30/60))*100\n",
    "    return percent"
   ]
  },
  {
   "cell_type": "code",
   "execution_count": 9,
   "metadata": {},
   "outputs": [
    {
     "name": "stdout",
     "output_type": "stream",
     "text": [
      "0417_HK30TM1_370\n",
      "2805.0\n",
      "4\n",
      "----------->0.14260249554367202\n",
      "0408_HK30TM30\n",
      "1456.0\n",
      "0.0\n",
      "----------->0.0\n"
     ]
    }
   ],
   "source": [
    "per  = FindErrTotalTimePercetage('data/process/V4b(2)_0417_HK30TM1_370(P).CSV', 6, '0417_HK30TM1_370')\n",
    "print(f'----------->{per}')\n",
    "\n",
    "# per  = FindErrTotalTimePercetage('data/process/V4b(2)_0401_HK30TM1_SW374_FWgpio(P).CSV', 6, '0401_HK30TM1_SW374_FWgpio')\n",
    "# print(f'----------->{per}')\n",
    "per  = FindErrTotalTimePercetage('data/process/V4b(2)_0411_HK30TM1_373(P).CSV', 6, '0408_HK30TM30')\n",
    "# # per  = FindErrTotalTimePercetage('data/process/V4b(2)_0307_HK30TM30(P).CSV', 6, '0307_HK30TM30')\n",
    "print(f'----------->{per}')\n",
    "# per  = FindErrTotalTimePercetage('data/process/V4b(2)_0404_HK30TM10_374(P).CSV', 6, '0404_HK30TM10')\n",
    "# print(f'----------->{per}')\n",
    "\n",
    "# per  = FindErrTotalTimePercetage('data/process/V4b(2)_0409_HK30TM1_353(P).CSV', 6, '0409_HK30TM1')\n",
    "# print(f'----------->{per}')"
   ]
  },
  {
   "cell_type": "code",
   "execution_count": 60,
   "metadata": {},
   "outputs": [],
   "source": [
    "def FindErrTotalTimeinterval(OpenfileName, n, Datee):\n",
    "    with open(OpenfileName, 'r') as csvfile:\n",
    "    # 讀取 CSV 檔案內容\n",
    "        rows = csv.reader(csvfile)\n",
    "        data = list(rows)\n",
    "    t=0\n",
    "    Timess =0\n",
    "    length = int((len(data)))\n",
    "    hapen=0\n",
    "    inteval = []\n",
    "    for i in range(1,len(data)):\n",
    "        R1 =   float(data[i][11])\n",
    "        R2 =   float(data[i][12])\n",
    "        if ((t > n) & (2.0>R2>1.0) & (2.0>R1>1.0)):\n",
    "            beforT = int(hapen[0:2])*60+int(hapen[3:5])\n",
    "            if (int(hapen[0:2])<=int(data[i][1][2:4])):\n",
    "                afterT = int(data[i][1][2:4])*60+int(data[i][1][5:7])\n",
    "                # print(f'{beforT},--{afterT}')\n",
    "            else:\n",
    "                afterT = (int(data[i][1][2:4])+24)*60+int(data[i][1][5:7])\n",
    "            inteval.append(round(beforT/60,3))\n",
    "            # Timess+=1\n",
    "        if((2.0>R2>1.0) & (2.0>R1>1.0)):\n",
    "            t=0\n",
    "        else: t+=1\n",
    "        if(t == n):\n",
    "            hapen = data[i-t][1][2:7]\n",
    "    # print(inteval)\n",
    "    inteval_F = np.zeros(len(inteval)-1)\n",
    "    for i in range(len(inteval)-1):\n",
    "        if (inteval[i]<inteval[i+1]):\n",
    "            inteval_F[i] = (inteval[i+1] - inteval[i])\n",
    "        if (inteval[i]>inteval[i+1]):\n",
    "            inteval_F[i] = ((inteval[i+1]+24) - inteval[i])\n",
    "    return inteval_F\n",
    "\n",
    "\n"
   ]
  },
  {
   "cell_type": "code",
   "execution_count": 67,
   "metadata": {},
   "outputs": [
    {
     "data": {
      "text/plain": [
       "array([  5.9  ,  11.334,  28.95 ,  29.55 ,  30.184,  53.05 ,  53.7  ,\n",
       "        56.134,  58.067,  63.1  ,  68.317,  69.634,  70.05 ,  75.367,\n",
       "        79.734,  82.967,  91.434,  99.184, 112.784, 115.8  , 119.7  ])"
      ]
     },
     "execution_count": 67,
     "metadata": {},
     "output_type": "execute_result"
    }
   ],
   "source": [
    "time_intervals = FindErrTotalTimeinterval('data/process/V4b(2)_0219_5days(P).CSV', 16, '0219_5days')\n",
    "for i in range(len(time_intervals)-1):\n",
    "    time_intervals[i+1] = time_intervals[i] + time_intervals[i+1]\n",
    "time_intervals"
   ]
  },
  {
   "cell_type": "code",
   "execution_count": 70,
   "metadata": {},
   "outputs": [
    {
     "name": "stdout",
     "output_type": "stream",
     "text": [
      "發生故障的時間間隔：[ 5.9    5.434 17.616  0.6    0.634 22.866  0.65   2.434  1.933  5.033\n",
      "  5.217  1.317  0.416  5.317  4.367  3.233  8.467  7.75  13.6    3.016\n",
      "  3.9  ]\n"
     ]
    },
    {
     "data": {
      "image/png": "[encoded data removed]",
      "text/plain": [
       "<Figure size 432x288 with 1 Axes>"
      ]
     },
     "metadata": {
      "needs_background": "light"
     },
     "output_type": "display_data"
    }
   ],
   "source": [
    "# inteval = FindErrTotalTimeinterval('data/process/V4b(2)_0219_5days(P).CSV', 16, '0219_5days')\n",
    "# 觀察到的故障時間間隔\n",
    "time_intervals = FindErrTotalTimeinterval('data/process/V4b(2)_0219_5days(P).CSV', 16, '0219_5days')\n",
    "print(f'發生故障的時間間隔：{time_intervals}')\n",
    "\n",
    "# 計算平均值作為 lambda\n",
    "lambda_val = 1/np.mean(time_intervals)\n",
    "\n",
    "# 定義指數分佈的概率密度函數\n",
    "def exponential_pdf(x, lambda_val):\n",
    "    return lambda_val * np.exp(-lambda_val * x)\n",
    "\n",
    "# 繪製指數分佈的 PDF 圖形\n",
    "x_values = np.linspace(0, 24, 100)  # 生成 x 軸數據\n",
    "plt.plot(x_values, exponential_pdf(x_values, lambda_val), label='Exponential Distribution (λ={:.2f})'.format(lambda_val))\n",
    "plt.scatter(time_intervals, np.zeros_like(time_intervals), color='red', s=6, label='Observed Time Intervals')  # 將觀察到的時間間隔用紅點表示\n",
    "plt.xlabel('Time Interval (hours)')\n",
    "plt.ylabel('Probability Density')\n",
    "plt.title('Exponential Distribution of Time Intervals')\n",
    "plt.legend()\n",
    "plt.grid(True)\n",
    "plt.show()"
   ]
  },
  {
   "cell_type": "code",
   "execution_count": 54,
   "metadata": {},
   "outputs": [
    {
     "data": {
      "text/plain": [
       "0.41422456009121894"
      ]
     },
     "execution_count": 54,
     "metadata": {},
     "output_type": "execute_result"
    }
   ],
   "source": [
    "sample_std = np.std(time_intervals, ddof=1)\n",
    "1/(sample_std**0.5)"
   ]
  },
  {
   "cell_type": "code",
   "execution_count": 83,
   "metadata": {},
   "outputs": [
    {
     "data": {
      "image/png": "[encoded data removed]",
      "text/plain": [
       "<Figure size 432x288 with 1 Axes>"
      ]
     },
     "metadata": {
      "needs_background": "light"
     },
     "output_type": "display_data"
    }
   ],
   "source": [
    "# 定義指數分佈的CDF\n",
    "def exponential_cdf(x, lambda_val):\n",
    "    return 1 - np.exp(-lambda_val * x)\n",
    "\n",
    "Fx = exponential_cdf(x_values, lambda_val)\n",
    "for i in range(len(Fx)):\n",
    "    if 0.542<Fx[i] < 0.545:\n",
    "        M_x = x_values[i]\n",
    "        M_y = Fx[i]\n",
    "\n",
    "# 繪製CDF圖\n",
    "plt.plot(x_values, Fx , label='Exponential Distribution (λ={:.2f})'.format(lambda_val))\n",
    "plt.scatter(M_x, M_y, color='red', label=f'50% failures occur within an average of {round(M_x,2)} hours.')\n",
    "plt.xlabel('Time Interval (hours)')\n",
    "plt.ylabel('F(x)')\n",
    "plt.title('Cumulative Distribution Function (CDF)')\n",
    "plt.grid(True)\n",
    "plt.legend()\n",
    "plt.show()"
   ]
  }
 ],
 "metadata": {
  "kernelspec": {
   "display_name": "Python 3",
   "language": "python",
   "name": "python3"
  },
  "language_info": {
   "codemirror_mode": {
    "name": "ipython",
    "version": 3
   },
   "file_extension": ".py",
   "mimetype": "text/x-python",
   "name": "python",
   "nbconvert_exporter": "python",
   "pygments_lexer": "ipython3",
   "version": "3.8.8"
  }
 },
 "nbformat": 4,
 "nbformat_minor": 2
}
