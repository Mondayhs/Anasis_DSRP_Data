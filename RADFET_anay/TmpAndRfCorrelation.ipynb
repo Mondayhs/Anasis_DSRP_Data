{
 "cells": [
  {
   "cell_type": "code",
   "execution_count": 5,
   "metadata": {},
   "outputs": [
    {
     "name": "stdout",
     "output_type": "stream",
     "text": [
      "%pylab is deprecated, use %matplotlib inline and import the required libraries.\n",
      "Populating the interactive namespace from numpy and matplotlib\n"
     ]
    }
   ],
   "source": [
    "import numpy as np\n",
    "%pylab inline\n",
    "from matplotlib import pyplot as plt\n",
    "import csv"
   ]
  },
  {
   "cell_type": "code",
   "execution_count": 6,
   "metadata": {},
   "outputs": [],
   "source": [
    "with open('Cycle1RAD_Tmp.csv', newline='') as csvfile:\n",
    "# 讀取 CSV 檔案內容\n",
    "        rows = csv.reader(csvfile)\n",
    "        data = list(rows)\n",
    "    "
   ]
  },
  {
   "cell_type": "code",
   "execution_count": 7,
   "metadata": {},
   "outputs": [
    {
     "data": {
      "text/plain": [
       "58414"
      ]
     },
     "execution_count": 7,
     "metadata": {},
     "output_type": "execute_result"
    }
   ],
   "source": [
    "len(data)"
   ]
  },
  {
   "cell_type": "code",
   "execution_count": 8,
   "metadata": {},
   "outputs": [],
   "source": [
    "length = int((len(data)))\n",
    "tmp =np.zeros((length))\n",
    "R1 =np.zeros((length))\n",
    "R2 =np.zeros((length))\n",
    "for i in range(len(data)):\n",
    "    tmp[i] =   data[i][0]\n",
    "    R1[i] =    data[i][1]\n",
    "    R2[i] =    data[i][2]"
   ]
  },
  {
   "cell_type": "code",
   "execution_count": 13,
   "metadata": {},
   "outputs": [
    {
     "name": "stdout",
     "output_type": "stream",
     "text": [
      "[1.40128808 1.40128808 1.40128808 ... 1.40132921 1.40132921 1.40132921]\n",
      "1.4023048155713036\n"
     ]
    }
   ],
   "source": [
    "tem_ = np.arange(int(min(tmp)), int(max(tmp)))\n",
    "temperature = []\n",
    "R1_avg = []\n",
    "R2_avg = []\n",
    "i = 0\n",
    "for j in range(len(tem_)):\n",
    "    data1=[]\n",
    "    data2=[]\n",
    "    while(tmp[i] == tem_[j]):\n",
    "        data1 = np.append(data1, R1[i])\n",
    "        data2 = np.append(data2, R2[i])\n",
    "        i+=1\n",
    "    if (tem_[j] == 5):\n",
    "        print(data1)\n",
    "        print(np.mean(data1))\n",
    "    # if (data1 != []):\n",
    "    #     temperature = np.append(temperature, tem_[j])\n",
    "    #     R1_avg = np.append(R1_avg, np.mean(data1))\n",
    "    #     R2_avg = np.append(R2_avg,np.mean(data2))\n",
    "        "
   ]
  },
  {
   "cell_type": "code",
   "execution_count": 12,
   "metadata": {},
   "outputs": [
    {
     "data": {
      "text/plain": [
       "array([1.40131133, 1.40131133, 1.40131133, ..., 1.4013459 , 1.4013459 ,\n",
       "       1.4013459 ])"
      ]
     },
     "execution_count": 12,
     "metadata": {},
     "output_type": "execute_result"
    }
   ],
   "source": [
    "data1"
   ]
  },
  {
   "cell_type": "code",
   "execution_count": null,
   "metadata": {},
   "outputs": [
    {
     "ename": "NameError",
     "evalue": "name 'R1_avg' is not defined",
     "output_type": "error",
     "traceback": [
      "\u001b[1;31m---------------------------------------------------------------------------\u001b[0m",
      "\u001b[1;31mNameError\u001b[0m                                 Traceback (most recent call last)",
      "\u001b[1;32mc:\\Users\\user\\Desktop\\DSRP-New\\analysis_data\\Anasis_DSRP_Data\\RADFET_anay\\TmpAndRfCorrelation.ipynb Cell 6\u001b[0m line \u001b[0;36m1\n\u001b[1;32m----> <a href='vscode-notebook-cell:/c%3A/Users/user/Desktop/DSRP-New/analysis_data/Anasis_DSRP_Data/RADFET_anay/TmpAndRfCorrelation.ipynb#X14sZmlsZQ%3D%3D?line=0'>1</a>\u001b[0m np\u001b[39m.\u001b[39mmean(R1_avg)\n",
      "\u001b[1;31mNameError\u001b[0m: name 'R1_avg' is not defined"
     ]
    }
   ],
   "source": [
    "np.mean(R1_avg)"
   ]
  },
  {
   "cell_type": "code",
   "execution_count": null,
   "metadata": {},
   "outputs": [],
   "source": [
    "def polynomial(x,y,m):\n",
    "    n=len(x)\n",
    "    A=np.zeros((m+1,m+1))\n",
    "    B=np.zeros((m+1,1))\n",
    "\n",
    "    for i in range(m+1):\n",
    "        B[i,0]= sum((x**i)*y)\n",
    "        for j in range(m+1):\n",
    "            if i == j == 0 :\n",
    "                A[i,j]=n\n",
    "            else:\n",
    "                A[i,j]=sum(x**(i+j))\n",
    "    \n",
    "    c=np.linalg.inv(A)@B # find  sol （ 找出矩陣 Ax=B 的 x ）\n",
    "    # c ＝ 高斯法 guass(A,B)\n",
    "    return c # 回傳係數\n",
    "\n",
    "def func(u,w):\n",
    "    x=0\n",
    "    for i in range(len(w)):\n",
    "        x+=w[i]*u**i\n",
    "    return x\n",
    "\n",
    "def plt_fig(x,y):\n",
    "    n=3\n",
    "    w=polynomial(x,y,n) #n次方多項式\n",
    "    x_temp=np.linspace(0,80,100)\n",
    "    plt.plot(x_temp,func(x_temp,w),'r')   \n",
    "    plt.scatter(x,y) \n",
    "    plt.show\n",
    "\n",
    "def coef(x,y):\n",
    "    x_av=np.mean(x)\n",
    "    y_av=np.mean(y)\n",
    "    to=0; bo1=0; bo2=0; \n",
    "    for i in range(len(x)) :\n",
    "        to += (x[i]-x_av)*(y[i]-y_av)\n",
    "        bo1 += (x[i]-x_av)**2\n",
    "        bo2 += (y[i]-y_av)**2\n",
    "    r=to / np.sqrt(bo1*bo2) \n",
    "    return r"
   ]
  },
  {
   "cell_type": "code",
   "execution_count": null,
   "metadata": {},
   "outputs": [
    {
     "data": {
      "text/plain": [
       "(3.0, 60.0, 1.39, 1.42)"
      ]
     },
     "execution_count": 106,
     "metadata": {},
     "output_type": "execute_result"
    },
    {
     "data": {
      "image/png": "[encoded data removed]",
      "text/plain": [
       "<Figure size 432x288 with 1 Axes>"
      ]
     },
     "metadata": {
      "needs_background": "light"
     },
     "output_type": "display_data"
    }
   ],
   "source": [
    "# R1_C = np.around(coef(tmp,R1),3)\n",
    "# w=polynomial(tmp,R1,3) #n次方多項式\n",
    "# x_temp=np.linspace(0,80,100)\n",
    "# plt.plot(x_temp,func(x_temp,w),'b',label=f'r = {R1_C}') \n",
    "# # plt.plot(tmp,R1,'b',label=f'r = {R1_C}')\n",
    "# plt.legend() \n",
    "# plt.scatter(tmp,R1,s=1)\n",
    "# plt.scatter(temperature,R1_avg,s=2)\n",
    "\n",
    "R1_C = np.around(coef(temperature,R1_avg),3)\n",
    "w=polynomial(temperature,R1_avg,3) #n次方多項式\n",
    "x_temp=np.linspace(0,80,100)\n",
    "# plt.plot(x_temp,func(x_temp,w),'b',label=f'r = {R1_C}') \n",
    "# plt.plot(tmp,R1,'b',label=f'r = {R1_C}')\n",
    "\n",
    "plt.scatter(temperature,R1_avg,s=2,label=f'R1 Voltage')\n",
    "plt.legend() \n",
    "# plt.plot(temperature,R1_avg)\n",
    "plt.xlabel(\" Temperature (°C)\")\n",
    "plt.ylabel(\"Voltage (V)\")\n",
    "plt.title(f'R1 and Temperature Correlation') \n",
    "plt.axis([3, 60, 1.39,1.42])"
   ]
  },
  {
   "cell_type": "code",
   "execution_count": null,
   "metadata": {},
   "outputs": [
    {
     "data": {
      "text/plain": [
       "(3.0, 60.0, 1.34, 1.37)"
      ]
     },
     "execution_count": 107,
     "metadata": {},
     "output_type": "execute_result"
    },
    {
     "data": {
      "image/png": "[encoded data removed]",
      "text/plain": [
       "<Figure size 432x288 with 1 Axes>"
      ]
     },
     "metadata": {
      "needs_background": "light"
     },
     "output_type": "display_data"
    }
   ],
   "source": [
    "# R2_C = np.around(coef(tmp,R2),3)\n",
    "# w=polynomial(tmp,R2,3) #n次方多項式\n",
    "# x_temp=np.linspace(0,80,100)\n",
    "# plt.plot(x_temp,func(x_temp,w),'g',label=f'r = {R2_C}')\n",
    "# # plt.plot(tmp,R2,'g',label=f'r = {R2_C}')\n",
    "# plt.legend() \n",
    "# plt.scatter(tmp,R2,s=1,c ='g')\n",
    "# plt.plot(temperature,R2_avg,'g-')\n",
    "\n",
    "R2_C = np.around(coef(temperature,R2_avg),3)\n",
    "w=polynomial(temperature,R2_avg,3) #n次方多項式\n",
    "x_temp=np.linspace(0,80,100)\n",
    "plt.plot(x_temp,func(x_temp,w),'g',label=f'r = {R2_C}')\n",
    "plt.scatter(temperature,R2_avg,s=1,c ='g',label=f'R2 Voltage')\n",
    "plt.legend() \n",
    "plt.xlabel(\" Temperature (°C)\")\n",
    "plt.ylabel(\"Voltage (V)\")\n",
    "plt.title(f'R2 and Temperature Correlation') \n",
    "# plt.axis([3, 60, 1.352,1.356])\n",
    "plt.axis([3, 60, 1.34,1.37])"
   ]
  },
  {
   "cell_type": "code",
   "execution_count": null,
   "metadata": {},
   "outputs": [
    {
     "data": {
      "text/plain": [
       "(3.0, 60.0, 1.33, 1.42)"
      ]
     },
     "execution_count": 108,
     "metadata": {},
     "output_type": "execute_result"
    },
    {
     "data": {
      "image/png": "[encoded data removed]",
      "text/plain": [
       "<Figure size 432x288 with 1 Axes>"
      ]
     },
     "metadata": {
      "needs_background": "light"
     },
     "output_type": "display_data"
    }
   ],
   "source": [
    "plt.plot(temperature,R1_avg,label=f'R1 Voltage')\n",
    "plt.plot(temperature,R2_avg,'g-',label=f'R2 Voltage')\n",
    "plt.legend() \n",
    "\n",
    "plt.xlabel(\" Temperature (°C)\")\n",
    "plt.ylabel(\"Voltage (V)\")\n",
    "plt.title(f'RADFET Data - Temperature') \n",
    "plt.axis([3, 60, 1.33,1.42])"
   ]
  }
 ],
 "metadata": {
  "kernelspec": {
   "display_name": "Python 3",
   "language": "python",
   "name": "python3"
  },
  "language_info": {
   "codemirror_mode": {
    "name": "ipython",
    "version": 3
   },
   "file_extension": ".py",
   "mimetype": "text/x-python",
   "name": "python",
   "nbconvert_exporter": "python",
   "pygments_lexer": "ipython3",
   "version": "3.11.7"
  }
 },
 "nbformat": 4,
 "nbformat_minor": 2
}
